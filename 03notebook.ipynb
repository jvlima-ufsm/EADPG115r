{
 "cells": [
  {
   "cell_type": "markdown",
   "id": "116294f2-16fd-484a-8993-40cea958146b",
   "metadata": {},
   "source": [
    "# 03 - Variáveis, operadores aritméticos, estruturas de dados\n",
    "\n",
    "## Variáveis\n",
    "\n",
    "Variáveis são essencialmente nomes para valores na memória do computador como vimos anteriormente. Os nomes de variáveis em R, ou identificadores, podem conter os caracteres:\n",
    "- Letras maiúsculas ou minúsculas entre ``A`` e ``Z``;\n",
    "- O sublinhado ``_`` e ponto ``.``;\n",
    "- Dígitos de ``0`` a ``9`` exceto no começo do nome;\n",
    "- Se começa com ``.``, o segundo caractere do nome não pode ser dígito.\n",
    "\n",
    "\n",
    "Assim sendo, nomes como ``x``, ``celsius``, ``valor.total`` e ``_interno`` são válidos enquanto que ``1nome`` e ``.1valor`` são inválidos. Espaços são permitidos mas precisam estar entre crases como em ``meu valor``.\n",
    "Nomes com letras maiúsculas ou minúsculas definem nomes diferentes como em ``celsius`` e ``Celsius``.\n",
    "Alguns identificadores fazem parte da linguagem R, chamados palavras reservadas, e não podem ser usadas em outros nomes.\n",
    "\n",
    "Os tipos de dados primitivos em R são:\n",
    "- Número inteiro: ``integer``;\n",
    "- Número com ponto flutuante: ``numeric``;\n",
    "- Cadeia de caracteres: ``character``;\n",
    "- Lógico: logical que tem apenas dois valores ``TRUE`` (verdadeiro) e ``FALSE`` (falso).\n",
    "  \n",
    "R é definido como uma linguagem com tipagem dinâmica, ou seja, o tipo de uma variável é definido no momento da atribuição podendo ser alterado no decorrer da execução. A função especial ``class()`` permite mostrar qual é o tipo associado a um dado ou variável.\n",
    "O código abaixo mostra alguns exemplos de tipos primitivos. "
   ]
  },
  {
   "cell_type": "code",
   "execution_count": 1,
   "id": "14347980-6521-45d6-a94f-2da6e8fc793e",
   "metadata": {},
   "outputs": [
    {
     "data": {
      "text/html": [
       "'numeric'"
      ],
      "text/latex": [
       "'numeric'"
      ],
      "text/markdown": [
       "'numeric'"
      ],
      "text/plain": [
       "[1] \"numeric\""
      ]
     },
     "metadata": {},
     "output_type": "display_data"
    },
    {
     "data": {
      "text/html": [
       "'numeric'"
      ],
      "text/latex": [
       "'numeric'"
      ],
      "text/markdown": [
       "'numeric'"
      ],
      "text/plain": [
       "[1] \"numeric\""
      ]
     },
     "metadata": {},
     "output_type": "display_data"
    },
    {
     "data": {
      "text/html": [
       "'character'"
      ],
      "text/latex": [
       "'character'"
      ],
      "text/markdown": [
       "'character'"
      ],
      "text/plain": [
       "[1] \"character\""
      ]
     },
     "metadata": {},
     "output_type": "display_data"
    },
    {
     "data": {
      "text/html": [
       "'logical'"
      ],
      "text/latex": [
       "'logical'"
      ],
      "text/markdown": [
       "'logical'"
      ],
      "text/plain": [
       "[1] \"logical\""
      ]
     },
     "metadata": {},
     "output_type": "display_data"
    }
   ],
   "source": [
    "a <- 2\n",
    "class(a)\n",
    "\n",
    "b <- 2.0\n",
    "class(b)\n",
    "\n",
    "mensagem <- 'Ola mundo!'\n",
    "class(mensagem)\n",
    "\n",
    "c <- TRUE\n",
    "class(c)"
   ]
  },
  {
   "cell_type": "markdown",
   "id": "410d4d26-80d3-40ef-a342-f88988e1495f",
   "metadata": {},
   "source": [
    "## Saída de dados\n",
    "\n",
    "A função ``paste()`` serve para \"grudar\" o que queremos imprimir."
   ]
  },
  {
   "cell_type": "code",
   "execution_count": 5,
   "id": "1370a61b-f1d0-4402-b7a8-8c12dc0a5356",
   "metadata": {},
   "outputs": [
    {
     "name": "stdout",
     "output_type": "stream",
     "text": [
      "[1] \"Olá mundo!\"\n",
      "[1] \"O valor de x e 8\"\n"
     ]
    }
   ],
   "source": [
    "print( 'Olá mundo!' )\n",
    "x <- 8\n",
    "print( paste('O valor de x e', x) )"
   ]
  },
  {
   "cell_type": "markdown",
   "id": "557b8c28-21e8-4cde-b67c-c4b189fdaa37",
   "metadata": {},
   "source": [
    "## Entrada de dados\n",
    "\n",
    "Função readline()\n",
    "Programa pausa e espera digitar entrada\n",
    "Lê apenas caracteres, ou letras, então precisamos converter \n",
    "\n",
    "A entrada de dados é feita com a função ``readline()``. O programa pausa e espera o usuário  digitar a entrada. Essa função lê apenas caracteres, ou letras, então precisamos converter para o tipo desejado.\n",
    "\n",
    "O exemplo abaixo é um nome e idade. Como idade é um número inteiro, devemos converter para inteiro com a função ``readline()``.\n"
   ]
  },
  {
   "cell_type": "code",
   "execution_count": 3,
   "id": "d891d30a-114b-4757-8948-1353d728b314",
   "metadata": {},
   "outputs": [
    {
     "name": "stdin",
     "output_type": "stream",
     "text": [
      "Digite seu nome: Joao\n",
      "Digite sua idade: 30\n"
     ]
    }
   ],
   "source": [
    "nome <- readline( 'Digite seu nome:' )\n",
    "idade <- readline( 'Digite sua idade:' )\n",
    "idade <- as.integer(idade)"
   ]
  },
  {
   "cell_type": "markdown",
   "id": "e60a898a-ce2c-48e4-89ba-09d16d876355",
   "metadata": {},
   "source": [
    "## Comentários\n",
    "\n",
    "Os comentários no código são ignorados pelo interpretador R. Usamos o ``#`` e o texto é ignorado até o fim da linha"
   ]
  },
  {
   "cell_type": "code",
   "execution_count": 4,
   "id": "f18d2707-69cb-47ef-8764-24ca7d2ed183",
   "metadata": {},
   "outputs": [
    {
     "name": "stdout",
     "output_type": "stream",
     "text": [
      "[1] 5\n"
     ]
    }
   ],
   "source": [
    "# Isso é um comentário!\n",
    "\n",
    "# Vamos somar dois números abaixo\n",
    "a <- 2 + 3\n",
    "print( a )  # imprimindo aqui"
   ]
  },
  {
   "cell_type": "markdown",
   "id": "a00b9b11-c50c-4fcb-b3f0-82d97ed6b95c",
   "metadata": {},
   "source": [
    "## Operadores aritméticos\n",
    "\n",
    "Os principais operadores aritméticos estão listados abaixo sendo que alguns diferem de outras linguagens como operadores de números inteiros e exponenciação. \n",
    "- ``+`` Adição\n",
    "- ``-`` Subtração\n",
    "- ``*`` Multiplicação\n",
    "- ``/`` Divisão\n",
    "- ``%/%`` Divisão   com quociente  inteiro\n",
    "- ``%%`` Resto da divisão de dois números inteiros\n",
    "- ``^`` Exponenciação\n",
    "\n",
    "O exemplo abaixo mostra o resultado da ordem de precedência dos operadores."
   ]
  },
  {
   "cell_type": "code",
   "execution_count": 6,
   "id": "b3d7bc99-cb64-4039-b6c4-bafc89b45e05",
   "metadata": {},
   "outputs": [
    {
     "name": "stdout",
     "output_type": "stream",
     "text": [
      "[1] 14\n"
     ]
    }
   ],
   "source": [
    "x <- 3 + 24/2^2*2 - 1\n",
    "print( x ) "
   ]
  },
  {
   "cell_type": "markdown",
   "id": "2ef72ae5-4ec9-4d34-bd43-253fa2a303c1",
   "metadata": {},
   "source": [
    "## Vetores\n",
    "\n",
    "Vetores são sequências de dados de uma dimensão que podem armazenar caracteres, números e valores lógicos sem tamanho fixo de elementos. Os dados não podem ser de tipos diferences, senão o R converte os outros elementos para forçar o mesmo tipo de dados entre todos. Vetores também são mutáveis, ou seja, permitem alterações dos elementos por indexação.  Um vetor pode ser criado por meio da função ``c()`` e seus elementos dentro separados por vírgula. Uma lista de números ``c(1, 2, 3, 4)`` tem quatro elementos.\n",
    "\n",
    "O código abaixo ilustra alguns exemplos de manipulação de vetores. O vetor da linha 1 contem apenas letras. O acesso a elementos por indexação usa ``[]`` com o número do elemento como mostrado na linha 2. Note que o primeiro elemento do vetor está na posição 1. A linha 3 mostra a seleção de elementos pelo índices, e a linha 4 mostra que podemos extrair um intervalo de elementos com o formato ``início:fim``. Podemos também realizar operações vetoriais como a divisão da linha 7."
   ]
  },
  {
   "cell_type": "code",
   "execution_count": 16,
   "id": "4a725f38-f938-45fd-976f-d1b6d74104cd",
   "metadata": {},
   "outputs": [
    {
     "name": "stdout",
     "output_type": "stream",
     "text": [
      "[1] \"a\"\n",
      "[1] \"a\" \"c\"\n",
      "[1] \"b\" \"c\" \"d\"\n",
      "[1] 1.033333 3.066667 1.900000 3.333333\n"
     ]
    }
   ],
   "source": [
    "v <- c('a', 'b', 'c', 'd')\n",
    "print( v[1] )       # começa no 1\n",
    "print( v[c(1,3)] )  # a e c\n",
    "print( v[2:4] )     # b,c,d\n",
    "\n",
    "u <- c(3.1, 9.2, 5.7, 10.0)\n",
    "w <- u / 3 # divide todos por 3\n",
    "print( w )"
   ]
  },
  {
   "cell_type": "markdown",
   "id": "947d893c-266b-4154-a8c2-18845875d369",
   "metadata": {},
   "source": [
    "## Exercícios da aula\n",
    "\n",
    "1. Leia um número e faça o quadrado dele"
   ]
  },
  {
   "cell_type": "code",
   "execution_count": 11,
   "id": "f10dc624-7963-4d06-b2cc-8757305cc9c7",
   "metadata": {},
   "outputs": [
    {
     "name": "stdin",
     "output_type": "stream",
     "text": [
      "Digite um numero: 7\n"
     ]
    },
    {
     "name": "stdout",
     "output_type": "stream",
     "text": [
      "[1] \"O quadrado do numero 7 e 49\"\n"
     ]
    }
   ],
   "source": [
    "numero <- readline( 'Digite um numero:' )\n",
    "\n",
    "# Importante converter as letras para um número inteiro\n",
    "numero <- as.integer(numero)\n",
    "quadrado <- numero ^ 2\n",
    "\n",
    "print( paste('O quadrado do numero', numero, 'e', quadrado) )"
   ]
  },
  {
   "cell_type": "markdown",
   "id": "d0b14123-0b7c-497e-afb9-bea61cc885f5",
   "metadata": {},
   "source": [
    "2. Reproduza a expressão e mostre o valor de: 5/10 - 1/2"
   ]
  },
  {
   "cell_type": "code",
   "execution_count": 13,
   "id": "4928a12d-0c14-4e18-b723-b19cc9abf656",
   "metadata": {},
   "outputs": [
    {
     "name": "stdout",
     "output_type": "stream",
     "text": [
      "[1] 0\n"
     ]
    }
   ],
   "source": [
    "x <- 5/10 - 1/2\n",
    "print( x )"
   ]
  },
  {
   "cell_type": "markdown",
   "id": "5a193050-7039-40ca-88c2-4c6317a1b59b",
   "metadata": {},
   "source": [
    "3. Faça a média de 3 números informados pelo usuário.\n"
   ]
  },
  {
   "cell_type": "code",
   "execution_count": 15,
   "id": "08486419-974c-4df8-976b-2593c5ecd3a5",
   "metadata": {},
   "outputs": [
    {
     "name": "stdin",
     "output_type": "stream",
     "text": [
      "Digite o 1o numero: 3\n",
      "Digite o 2o numero: 7\n",
      "Digite o 3o numero: 9\n"
     ]
    },
    {
     "name": "stdout",
     "output_type": "stream",
     "text": [
      "[1] \"A media dos numeros e: 6.33333333333333\"\n"
     ]
    }
   ],
   "source": [
    "# Primeiro, precisamos ler 3 números\n",
    "n1 <- as.integer(readline( 'Digite o 1o numero:' ))\n",
    "n2 <- as.integer(readline( 'Digite o 2o numero:' ))\n",
    "n3 <- as.integer(readline( 'Digite o 3o numero:' ))\n",
    "\n",
    "# Agora fazemos a média\n",
    "media <- (n1 + n2 + n3)/3\n",
    "# Abaixo imprime o resultado\n",
    "print( paste('A media dos numeros e:', media) )"
   ]
  },
  {
   "cell_type": "code",
   "execution_count": null,
   "id": "17e171d9-3d74-411e-aaf8-4a82cc93036c",
   "metadata": {},
   "outputs": [],
   "source": []
  }
 ],
 "metadata": {
  "kernelspec": {
   "display_name": "R",
   "language": "R",
   "name": "ir"
  },
  "language_info": {
   "codemirror_mode": "r",
   "file_extension": ".r",
   "mimetype": "text/x-r-source",
   "name": "R",
   "pygments_lexer": "r",
   "version": "4.0.4"
  }
 },
 "nbformat": 4,
 "nbformat_minor": 5
}
