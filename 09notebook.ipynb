{
 "cells": [
  {
   "cell_type": "markdown",
   "id": "25fa869c-0b83-4186-a623-f8855be7683f",
   "metadata": {},
   "source": [
    "# Análise de dados em R\n",
    "\n",
    "O software R possui funcionalidades de análise de dados tal como tabela de dados e métodos de leitura de arquivos locais e remotos. O exemplo abaixo mostra o exemplo da leitura de dados remoto e um resumo dos dados com a função ``summary()``. "
   ]
  },
  {
   "cell_type": "code",
   "execution_count": 1,
   "id": "a2591c3a-4f2b-47f2-9493-21087c20a883",
   "metadata": {},
   "outputs": [
    {
     "data": {
      "text/plain": [
       "  PassengerId       Survived          Pclass          Name          \n",
       " Min.   :  1.0   Min.   :0.0000   Min.   :1.000   Length:891        \n",
       " 1st Qu.:223.5   1st Qu.:0.0000   1st Qu.:2.000   Class :character  \n",
       " Median :446.0   Median :0.0000   Median :3.000   Mode  :character  \n",
       " Mean   :446.0   Mean   :0.3838   Mean   :2.309                     \n",
       " 3rd Qu.:668.5   3rd Qu.:1.0000   3rd Qu.:3.000                     \n",
       " Max.   :891.0   Max.   :1.0000   Max.   :3.000                     \n",
       "                                                                    \n",
       "     Sex                 Age            SibSp           Parch       \n",
       " Length:891         Min.   : 0.42   Min.   :0.000   Min.   :0.0000  \n",
       " Class :character   1st Qu.:20.12   1st Qu.:0.000   1st Qu.:0.0000  \n",
       " Mode  :character   Median :28.00   Median :0.000   Median :0.0000  \n",
       "                    Mean   :29.70   Mean   :0.523   Mean   :0.3816  \n",
       "                    3rd Qu.:38.00   3rd Qu.:1.000   3rd Qu.:0.0000  \n",
       "                    Max.   :80.00   Max.   :8.000   Max.   :6.0000  \n",
       "                    NA's   :177                                     \n",
       "    Ticket               Fare           Cabin             Embarked        \n",
       " Length:891         Min.   :  0.00   Length:891         Length:891        \n",
       " Class :character   1st Qu.:  7.91   Class :character   Class :character  \n",
       " Mode  :character   Median : 14.45   Mode  :character   Mode  :character  \n",
       "                    Mean   : 32.20                                        \n",
       "                    3rd Qu.: 31.00                                        \n",
       "                    Max.   :512.33                                        \n",
       "                                                                          "
      ]
     },
     "metadata": {},
     "output_type": "display_data"
    }
   ],
   "source": [
    "titanic <- read.csv('https://raw.githubusercontent.com/pandas-dev/pandas/master/doc/data/titanic.csv')\n",
    "summary(titanic)"
   ]
  },
  {
   "cell_type": "markdown",
   "id": "c43a7ee5-1401-4ea4-9cf6-9b5b103da18a",
   "metadata": {},
   "source": [
    "Podemos selecionar apenas um subconjunto de colunas da tabela maior como no exemplo abaixo linha 1 onde escrevemos um vírgula ``,`` para selecionar todas as linhas e uma lista de colunas após a vírgula ``Age`` e ``Sex``. As primeiras linhas do dataframe ``idade_sexo`` são impressas com a função ``head()``. "
   ]
  },
  {
   "cell_type": "code",
   "execution_count": 3,
   "id": "170ace47-3d4b-4dde-95d6-0afec3f00b3b",
   "metadata": {},
   "outputs": [
    {
     "data": {
      "text/html": [
       "<table class=\"dataframe\">\n",
       "<caption>A data.frame: 6 × 2</caption>\n",
       "<thead>\n",
       "\t<tr><th></th><th scope=col>Age</th><th scope=col>Sex</th></tr>\n",
       "\t<tr><th></th><th scope=col>&lt;dbl&gt;</th><th scope=col>&lt;chr&gt;</th></tr>\n",
       "</thead>\n",
       "<tbody>\n",
       "\t<tr><th scope=row>1</th><td>22</td><td>male  </td></tr>\n",
       "\t<tr><th scope=row>2</th><td>38</td><td>female</td></tr>\n",
       "\t<tr><th scope=row>3</th><td>26</td><td>female</td></tr>\n",
       "\t<tr><th scope=row>4</th><td>35</td><td>female</td></tr>\n",
       "\t<tr><th scope=row>5</th><td>35</td><td>male  </td></tr>\n",
       "\t<tr><th scope=row>6</th><td>NA</td><td>male  </td></tr>\n",
       "</tbody>\n",
       "</table>\n"
      ],
      "text/latex": [
       "A data.frame: 6 × 2\n",
       "\\begin{tabular}{r|ll}\n",
       "  & Age & Sex\\\\\n",
       "  & <dbl> & <chr>\\\\\n",
       "\\hline\n",
       "\t1 & 22 & male  \\\\\n",
       "\t2 & 38 & female\\\\\n",
       "\t3 & 26 & female\\\\\n",
       "\t4 & 35 & female\\\\\n",
       "\t5 & 35 & male  \\\\\n",
       "\t6 & NA & male  \\\\\n",
       "\\end{tabular}\n"
      ],
      "text/markdown": [
       "\n",
       "A data.frame: 6 × 2\n",
       "\n",
       "| <!--/--> | Age &lt;dbl&gt; | Sex &lt;chr&gt; |\n",
       "|---|---|---|\n",
       "| 1 | 22 | male   |\n",
       "| 2 | 38 | female |\n",
       "| 3 | 26 | female |\n",
       "| 4 | 35 | female |\n",
       "| 5 | 35 | male   |\n",
       "| 6 | NA | male   |\n",
       "\n"
      ],
      "text/plain": [
       "  Age Sex   \n",
       "1 22  male  \n",
       "2 38  female\n",
       "3 26  female\n",
       "4 35  female\n",
       "5 35  male  \n",
       "6 NA  male  "
      ]
     },
     "metadata": {},
     "output_type": "display_data"
    }
   ],
   "source": [
    "idade_sexo <- titanic[,c('Age', 'Sex')]\n",
    "head( idade_sexo )"
   ]
  },
  {
   "cell_type": "markdown",
   "id": "ec20283c-a0ce-44c0-a49b-6aa75e693721",
   "metadata": {},
   "source": [
    "A consulta sobre dados estatísticos pode ser feito por coluna como abaixo onde as informações de valores mínimo, máximo e média são mostrados para a coluna ``Age``. Cada função tem a opção ``na.rm`` para remover as linhas com dados inexistentes."
   ]
  },
  {
   "cell_type": "code",
   "execution_count": 18,
   "id": "5a416e37-f1bf-4661-81c5-763204ce2f37",
   "metadata": {},
   "outputs": [
    {
     "data": {
      "text/html": [
       "0.42"
      ],
      "text/latex": [
       "0.42"
      ],
      "text/markdown": [
       "0.42"
      ],
      "text/plain": [
       "[1] 0.42"
      ]
     },
     "metadata": {},
     "output_type": "display_data"
    },
    {
     "data": {
      "text/html": [
       "80"
      ],
      "text/latex": [
       "80"
      ],
      "text/markdown": [
       "80"
      ],
      "text/plain": [
       "[1] 80"
      ]
     },
     "metadata": {},
     "output_type": "display_data"
    },
    {
     "data": {
      "text/html": [
       "29.6991176470588"
      ],
      "text/latex": [
       "29.6991176470588"
      ],
      "text/markdown": [
       "29.6991176470588"
      ],
      "text/plain": [
       "[1] 29.69912"
      ]
     },
     "metadata": {},
     "output_type": "display_data"
    }
   ],
   "source": [
    "min( titanic$Age, na.rm = TRUE )\n",
    "max( titanic$Age, na.rm = TRUE )\n",
    "mean( titanic$Age, na.rm = TRUE )"
   ]
  },
  {
   "cell_type": "markdown",
   "id": "00587881-dc9a-4062-8139-a8a06d6e5e21",
   "metadata": {},
   "source": [
    "Também podemos aplicar testes relacionais e lógicos para selecionar determinadas linhas da tabela como no exemplo. O primeiro exemplo cria a tabela ``acima_35`` com todos os passeiros que tinham idade acima de 35 anos. Depois, a outra seleção cria a tabela ``acima_M_35`` com todos os passageiros acima de 35 anos e do sexo masculino. Note que em ambos os casos usamos operadores relacionados para efeitos de comparação e um operador lógico no segundo exemplo.\n"
   ]
  },
  {
   "cell_type": "code",
   "execution_count": 33,
   "id": "a756dd2f-c305-4e83-89c2-fc36285ab6ec",
   "metadata": {},
   "outputs": [
    {
     "data": {
      "text/html": [
       "217"
      ],
      "text/latex": [
       "217"
      ],
      "text/markdown": [
       "217"
      ],
      "text/plain": [
       "[1] 217"
      ]
     },
     "metadata": {},
     "output_type": "display_data"
    }
   ],
   "source": [
    "acima_35 <- titanic[ titanic$Age > 35, ]\n",
    "nrow( na.omit(acima_35) )\n"
   ]
  },
  {
   "cell_type": "code",
   "execution_count": 34,
   "id": "37b9518f-8e08-4c29-9640-c17ebb7b58a6",
   "metadata": {},
   "outputs": [
    {
     "data": {
      "text/html": [
       "144"
      ],
      "text/latex": [
       "144"
      ],
      "text/markdown": [
       "144"
      ],
      "text/plain": [
       "[1] 144"
      ]
     },
     "metadata": {},
     "output_type": "display_data"
    }
   ],
   "source": [
    "acima_M_35 <- titanic[ (titanic$Age > 35) & (titanic$Sex == 'male'),]\n",
    "nrow( na.omit(acima_M_35) )"
   ]
  },
  {
   "cell_type": "markdown",
   "id": "80aa5658-c68c-4fe7-ac83-32a9fa15be5c",
   "metadata": {},
   "source": [
    "A geração de gráficos depende do pacote ``ggplot2`` como no exemplo. Primeiro, importamos o pacote com a função ``require()`` que recebe como argumento o nome do pacote. O gráfico exemplo é um histograma baseado na idade dos passageiros. Usamos a opção ``na.rm`` para ``TRUE`` para remover as linhas com dados inexistentes."
   ]
  },
  {
   "cell_type": "code",
   "execution_count": 4,
   "id": "e7a448b1-c151-48e0-840c-53e89eccd528",
   "metadata": {},
   "outputs": [
    {
     "name": "stderr",
     "output_type": "stream",
     "text": [
      "Carregando pacotes exigidos: ggplot2\n",
      "\n",
      "\u001b[1m\u001b[22m`stat_bin()` using `bins = 30`. Pick better value with `binwidth`.\n"
     ]
    },
    {
     "data": {
      "image/png": "[encoded data removed]",
      "text/plain": [
       "plot without title"
      ]
     },
     "metadata": {
      "image/png": {
       "height": 420,
       "width": 420
      }
     },
     "output_type": "display_data"
    }
   ],
   "source": [
    "require(ggplot2) \n",
    "\n",
    "ggplot(titanic, aes(Age)) +\n",
    "    geom_histogram(na.rm = TRUE)"
   ]
  },
  {
   "cell_type": "markdown",
   "id": "99579ba2-99bc-4212-9464-fdf64cc0bb09",
   "metadata": {},
   "source": [
    "Podemos usar o ``ggplot2`` para criar um gráfico de barras para mostrar dados sobre o sexo dos passageiros com ``geom_bar()``."
   ]
  },
  {
   "cell_type": "code",
   "execution_count": 6,
   "id": "14b482d1-1b29-4f94-a1f0-4265b965fa4f",
   "metadata": {},
   "outputs": [
    {
     "data": {
      "image/png": "[encoded data removed]",
      "text/plain": [
       "plot without title"
      ]
     },
     "metadata": {
      "image/png": {
       "height": 420,
       "width": 420
      }
     },
     "output_type": "display_data"
    }
   ],
   "source": [
    "ggplot(titanic, aes(Sex)) +\n",
    "    geom_bar(na.rm = TRUE)"
   ]
  },
  {
   "cell_type": "markdown",
   "id": "078aa1fd-5b26-410f-be03-c3e708764323",
   "metadata": {},
   "source": [
    "Podemos visualizar quantos passagens sobreviram com a coluna ``Survived``. Para tanto, devemos usar o pacote ``dplyr`` que importa uma gramática para análise e manipulação de dados. Os dados são direcionados a outras funções pelo operador ``%>%``. No exemplo abaixo, usamos o método ``group_by()`` para agrupar pela coluna ``Survived`` e realizamos operações de sumário com ``sumarise()`` tais como a contagem ``n()``."
   ]
  },
  {
   "cell_type": "code",
   "execution_count": 9,
   "id": "767f8ffa-de66-40cf-a805-f00c10bf4210",
   "metadata": {},
   "outputs": [
    {
     "data": {
      "text/html": [
       "<table class=\"dataframe\">\n",
       "<caption>A tibble: 2 × 2</caption>\n",
       "<thead>\n",
       "\t<tr><th scope=col>Survived</th><th scope=col>n</th></tr>\n",
       "\t<tr><th scope=col>&lt;int&gt;</th><th scope=col>&lt;int&gt;</th></tr>\n",
       "</thead>\n",
       "<tbody>\n",
       "\t<tr><td>0</td><td>549</td></tr>\n",
       "\t<tr><td>1</td><td>342</td></tr>\n",
       "</tbody>\n",
       "</table>\n"
      ],
      "text/latex": [
       "A tibble: 2 × 2\n",
       "\\begin{tabular}{ll}\n",
       " Survived & n\\\\\n",
       " <int> & <int>\\\\\n",
       "\\hline\n",
       "\t 0 & 549\\\\\n",
       "\t 1 & 342\\\\\n",
       "\\end{tabular}\n"
      ],
      "text/markdown": [
       "\n",
       "A tibble: 2 × 2\n",
       "\n",
       "| Survived &lt;int&gt; | n &lt;int&gt; |\n",
       "|---|---|\n",
       "| 0 | 549 |\n",
       "| 1 | 342 |\n",
       "\n"
      ],
      "text/plain": [
       "  Survived n  \n",
       "1 0        549\n",
       "2 1        342"
      ]
     },
     "metadata": {},
     "output_type": "display_data"
    }
   ],
   "source": [
    "require(dplyr)\n",
    "\n",
    "titanic %>%\n",
    "    group_by(Survived) %>%\n",
    "    summarise(\n",
    "        n = n()\n",
    "    )"
   ]
  },
  {
   "cell_type": "markdown",
   "id": "5ce9f432-e8b1-4171-b4ad-6d6d10c6a2e2",
   "metadata": {},
   "source": [
    "Podemos visualizar quantos passagens sobreviram com a coluna ``Survived``. Para tanto, agrupamos os valores para contagem e em seguida calculamos a divisão salvando no dataframe ``sobreviventes``."
   ]
  },
  {
   "cell_type": "code",
   "execution_count": 12,
   "id": "3c78968a-ba89-4c30-ac08-71767cdbc6a6",
   "metadata": {},
   "outputs": [
    {
     "data": {
      "text/html": [
       "<table class=\"dataframe\">\n",
       "<caption>A tibble: 2 × 3</caption>\n",
       "<thead>\n",
       "\t<tr><th scope=col>Survived</th><th scope=col>n</th><th scope=col>perc</th></tr>\n",
       "\t<tr><th scope=col>&lt;int&gt;</th><th scope=col>&lt;int&gt;</th><th scope=col>&lt;dbl&gt;</th></tr>\n",
       "</thead>\n",
       "<tbody>\n",
       "\t<tr><td>0</td><td>549</td><td>0.6161616</td></tr>\n",
       "\t<tr><td>1</td><td>342</td><td>0.3838384</td></tr>\n",
       "</tbody>\n",
       "</table>\n"
      ],
      "text/latex": [
       "A tibble: 2 × 3\n",
       "\\begin{tabular}{lll}\n",
       " Survived & n & perc\\\\\n",
       " <int> & <int> & <dbl>\\\\\n",
       "\\hline\n",
       "\t 0 & 549 & 0.6161616\\\\\n",
       "\t 1 & 342 & 0.3838384\\\\\n",
       "\\end{tabular}\n"
      ],
      "text/markdown": [
       "\n",
       "A tibble: 2 × 3\n",
       "\n",
       "| Survived &lt;int&gt; | n &lt;int&gt; | perc &lt;dbl&gt; |\n",
       "|---|---|---|\n",
       "| 0 | 549 | 0.6161616 |\n",
       "| 1 | 342 | 0.3838384 |\n",
       "\n"
      ],
      "text/plain": [
       "  Survived n   perc     \n",
       "1 0        549 0.6161616\n",
       "2 1        342 0.3838384"
      ]
     },
     "metadata": {},
     "output_type": "display_data"
    }
   ],
   "source": [
    "sobreviventes <- titanic %>%\n",
    "    group_by(Survived) %>%\n",
    "    summarise(\n",
    "        n = n()\n",
    "    )\n",
    "sobreviventes['perc'] <- sobreviventes$n / sum(sobreviventes$n)\n",
    "sobreviventes"
   ]
  },
  {
   "cell_type": "markdown",
   "id": "eeedc468-ab03-48c9-811c-be8747a0dde1",
   "metadata": {},
   "source": [
    "O gráfico de pizza abaixo usa opções adicionais pois o ``ggplot2`` não possui um tipo de gráfico análogo ao gráfico em Pandas. A definição do gráfico é usando ``geom_bar`` em conjunto com ``coord_polar``."
   ]
  },
  {
   "cell_type": "code",
   "execution_count": 20,
   "id": "6ca19fe2-1178-4846-812c-8652adc16980",
   "metadata": {},
   "outputs": [
    {
     "data": {
      "image/png": "[encoded data removed]",
      "text/plain": [
       "plot without title"
      ]
     },
     "metadata": {
      "image/png": {
       "height": 420,
       "width": 420
      }
     },
     "output_type": "display_data"
    }
   ],
   "source": [
    "ggplot(sobreviventes, aes(x='', y=perc, fill=as.factor(Survived))) +\n",
    "    geom_bar(stat=\"identity\", width=1)  +\n",
    "    coord_polar(\"y\", start=0) +\n",
    "    theme_void()"
   ]
  },
  {
   "cell_type": "code",
   "execution_count": null,
   "id": "968c78e8-c1f6-4713-aa9d-aa8071d93255",
   "metadata": {},
   "outputs": [],
   "source": []
  }
 ],
 "metadata": {
  "kernelspec": {
   "display_name": "R",
   "language": "R",
   "name": "ir"
  },
  "language_info": {
   "codemirror_mode": "r",
   "file_extension": ".r",
   "mimetype": "text/x-r-source",
   "name": "R",
   "pygments_lexer": "r",
   "version": "4.3.1"
  }
 },
 "nbformat": 4,
 "nbformat_minor": 5
}
