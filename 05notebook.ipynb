{
 "cells": [
  {
   "cell_type": "markdown",
   "id": "fc126e7f-6478-4db8-b77f-6c0135e92365",
   "metadata": {},
   "source": [
    "# Estruturas de decisão - versão R\n",
    "\n",
    "Uma estrutura de decisão executa um conjunto de instruções caso uma determinada condição lógica seja avaliada como verdadeira. Nesta seção veremos as variação da estrutura de decisão SE do R ``if`` e SENÃO ``else``.\n",
    "\n",
    "## SE / IF\n",
    "\n",
    "O teste condicional mais simples é o ``if`` que avalia uma condição lógica e executa as instruções abaixo quando esta condição é verdadeira (``TRUE``). O código abaixo mostra o exemplo de comparação de dois números na linha 3. Note que o teste condicional da linha 3 é delimitado entre parêntesis. Logo abaixo, as instruções a serem executadas são delimitadas por abre e fecha chaves.  Note que a linha 5 está fora do fecha chaves, portanto não está dentro da estrutura de decisão."
   ]
  },
  {
   "cell_type": "code",
   "execution_count": 4,
   "id": "798395e5-aa16-4292-b69d-163af5838bef",
   "metadata": {},
   "outputs": [
    {
     "name": "stdout",
     "output_type": "stream",
     "text": [
      "[1] \"O maior e: 5\"\n",
      "[1] \"Fim\"\n"
     ]
    }
   ],
   "source": [
    "x <- 5\n",
    "y <- 4\n",
    "if( x > y ){\n",
    "    print( paste('O maior e:', x) )\n",
    "}\n",
    "print( 'Fim' )"
   ]
  },
  {
   "cell_type": "markdown",
   "id": "b7889102-227f-484a-8d89-4dce03190fda",
   "metadata": {},
   "source": [
    "## SENÃO /  ELSE\n",
    "\n",
    "Haverá problemas específicos onde queremos avaliar outros testes condicionais ou mesmo executar instruções quando todas as condições lógicas resultarem em falso (``FALSE``). O teste condicional ``if`` pode vir após um ``else`` e será avaliado quando o teste condicional anterior resultar em falso. Caso todos os testes anteriores forem falsos, podemos usar o ``else`` que deve vir seguido de um ``if``.\n",
    "\n",
    "O código abaixo ilustra um exemplo de testes condicionais com ``if/else``. O ``else`` da linha 8 executa seu bloco de instruções quando os testes dos dois ``if`` anteriores resultam em falso."
   ]
  },
  {
   "cell_type": "code",
   "execution_count": 3,
   "id": "0defba6c-1e6d-47e8-8ab1-e343444c5d59",
   "metadata": {},
   "outputs": [
    {
     "name": "stdout",
     "output_type": "stream",
     "text": [
      "[1] \"O maior: 7\"\n",
      "[1] \"Fim\"\n"
     ]
    }
   ],
   "source": [
    "x <- 5\n",
    "y <- 6\n",
    "z <- 7\n",
    "if( x > y) {\n",
    "    print( paste('O maior:', x) )\n",
    "} else if( y > z ){\n",
    "    print( paste('O maior:', y) )\n",
    "} else {\n",
    "    print( paste('O maior:', z) )\n",
    "}\n",
    "print( 'Fim' )"
   ]
  },
  {
   "cell_type": "markdown",
   "id": "c2410486-fcbd-44a7-a0d6-11f80428c167",
   "metadata": {},
   "source": [
    "## Exercícios\n",
    "\n",
    "1. Calcule sua média final baseado em duas notas, e imprimir se foi aprovado ou não"
   ]
  },
  {
   "cell_type": "code",
   "execution_count": 5,
   "id": "b3d3132b-5aef-4701-b6a0-33e266b8b7ca",
   "metadata": {},
   "outputs": [
    {
     "name": "stdin",
     "output_type": "stream",
     "text": [
      "Digite a 1a nota: 7\n",
      "Digite a 2a nota: 6\n"
     ]
    },
    {
     "name": "stdout",
     "output_type": "stream",
     "text": [
      "[1] \"REPROVADO\"\n"
     ]
    }
   ],
   "source": [
    "# Pedimos as 2 notas do aluno\n",
    "n1 <- as.numeric( readline( 'Digite a 1a nota:' ) )\n",
    "n2 <- as.numeric( readline( 'Digite a 2a nota:' ) )\n",
    "\n",
    "# Calculamos a média\n",
    "media <- (n1 + n2)/2\n",
    "\n",
    "# Precisamos testar o valor para saber se estava aprovado ou não\n",
    "if( media >= 7.0 ){\n",
    "    print( 'APROVADO' )\n",
    "} else {\n",
    "    print( 'REPROVADO' )\n",
    "}"
   ]
  },
  {
   "cell_type": "markdown",
   "id": "190792ff-f950-41cd-985b-f4a0c4c360c3",
   "metadata": {},
   "source": [
    "2. Ler dois números, e imprimir o maior deles.\n"
   ]
  },
  {
   "cell_type": "code",
   "execution_count": 7,
   "id": "0278e67e-769a-4b15-83ad-23f42c65e278",
   "metadata": {},
   "outputs": [
    {
     "name": "stdin",
     "output_type": "stream",
     "text": [
      "Digite o 1o numero: 5\n",
      "Digite o 2o numero: 8\n"
     ]
    },
    {
     "name": "stdout",
     "output_type": "stream",
     "text": [
      "[1] \"O maior e 8\"\n"
     ]
    }
   ],
   "source": [
    "# Pedimos 2 números inteiro\n",
    "n1 <- as.integer( readline( 'Digite o 1o numero:' ) )\n",
    "n2 <- as.integer( readline( 'Digite o 2o numero:' ) )\n",
    "\n",
    "# O maior deles é o n1?\n",
    "if( n1 > n2 ){\n",
    "    print( paste('O maior e', n1) )\n",
    "} else {\n",
    "    # o maior é o n2!\n",
    "    print( paste('O maior e', n2) )\n",
    "}"
   ]
  },
  {
   "cell_type": "markdown",
   "id": "ea89e6a6-1baf-497e-9dcb-18f917afe2cf",
   "metadata": {},
   "source": [
    "3. Faça um programa que lê ``a``, ``b`` e ``c`` de uma equação de 2o grau e diga se a equação possui:\n",
    "- Duas raízes reais\n",
    "- Uma raiz única\n",
    "- Nenhuma raiz"
   ]
  },
  {
   "cell_type": "code",
   "execution_count": 15,
   "id": "8674fcd4-50cb-449b-b145-fa2452a2ce29",
   "metadata": {},
   "outputs": [
    {
     "name": "stdin",
     "output_type": "stream",
     "text": [
      "Digite o valor de a: 1\n",
      "Digite o valor de b: 3\n",
      "Digite o valor de c: 1\n"
     ]
    },
    {
     "name": "stdout",
     "output_type": "stream",
     "text": [
      "[1] \"Tem duas raiz reias\"\n"
     ]
    }
   ],
   "source": [
    "a <- as.numeric( readline( 'Digite o valor de a:' ) )\n",
    "b <- as.numeric( readline( 'Digite o valor de b:' ) )\n",
    "c <- as.numeric( readline( 'Digite o valor de c:' ) )\n",
    "\n",
    "# Precisa calcular o delta\n",
    "delta <- b**2 - 4*a*c\n",
    "\n",
    "# Tem raiz?\n",
    "if( delta > 0 ){\n",
    "    # Tem apenas uma raiz?\n",
    "    if( delta == 0 ){\n",
    "        print( 'Tem uma raiz unica' )\n",
    "    } else {\n",
    "        # É maior que 0 e não é 0? Então é positivo e tem raízes.\n",
    "        print( 'Tem duas raiz reias' )\n",
    "    }\n",
    "} else {\n",
    "    print( 'Nenhuma raiz' )\n",
    "}"
   ]
  },
  {
   "cell_type": "code",
   "execution_count": null,
   "id": "2413d3ba-4fac-444e-b181-14a234a28d35",
   "metadata": {},
   "outputs": [],
   "source": []
  }
 ],
 "metadata": {
  "kernelspec": {
   "display_name": "R",
   "language": "R",
   "name": "ir"
  },
  "language_info": {
   "codemirror_mode": "r",
   "file_extension": ".r",
   "mimetype": "text/x-r-source",
   "name": "R",
   "pygments_lexer": "r",
   "version": "4.0.4"
  }
 },
 "nbformat": 4,
 "nbformat_minor": 5
}
